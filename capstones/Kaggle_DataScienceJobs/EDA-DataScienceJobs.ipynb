{
 "cells": [
  {
   "cell_type": "markdown",
   "id": "powered-myanmar",
   "metadata": {},
   "source": [
    "# Data Science Jobs in the United States"
   ]
  },
  {
   "cell_type": "code",
   "execution_count": 1,
   "id": "banned-locking",
   "metadata": {},
   "outputs": [],
   "source": [
    "import numpy as np\n",
    "import pandas as pd\n",
    "import seaborn as sns\n",
    "\n",
    "import pandas_profiling as ppf"
   ]
  },
  {
   "cell_type": "code",
   "execution_count": 2,
   "id": "cathedral-latter",
   "metadata": {},
   "outputs": [],
   "source": [
    "# URL https://www.kaggle.com/atharvap329/glassdoor-data-science-job-data"
   ]
  },
  {
   "cell_type": "markdown",
   "id": "brilliant-yemen",
   "metadata": {},
   "source": [
    "### Load Data"
   ]
  },
  {
   "cell_type": "code",
   "execution_count": 3,
   "id": "forward-treatment",
   "metadata": {},
   "outputs": [],
   "source": [
    "# Data_Job_NY is all job titles"
   ]
  },
  {
   "cell_type": "code",
   "execution_count": 4,
   "id": "centered-right",
   "metadata": {},
   "outputs": [],
   "source": [
    "# URL https://www.kaggle.com/atharvap329/glassdoor-data-science-job-data\n",
    "# Data_Job_NY is all job titles...seems to be all title\n",
    "file_list_jobs = {'SF':'Data_Job_SF.csv','TX':'Data_Job_TX.csv','WA':'Data_Job_WA.csv','NY':'Data_Job_NY.csv'}\n",
    "# Data_Job_NY is all job titles...seems to be all title\n",
    "file_list_US = ['data_scientist_united_states_job_postings_jobspikr.csv']"
   ]
  },
  {
   "cell_type": "code",
   "execution_count": 5,
   "id": "second-burning",
   "metadata": {},
   "outputs": [],
   "source": [
    "# [InternetShortcut]\n",
    "# URL=https://www.kaggle.com/jobspikr/data-scientist-job-postings-from-the-usa\n",
    "file_jobspikr = 'data_scientist_united_states_job_postings_jobspikr.csv'"
   ]
  },
  {
   "cell_type": "markdown",
   "id": "preceding-pittsburgh",
   "metadata": {},
   "source": [
    "### Build DataFrames"
   ]
  },
  {
   "cell_type": "code",
   "execution_count": 6,
   "id": "drawn-truck",
   "metadata": {},
   "outputs": [],
   "source": [
    "data_SF = pd.read_csv(file_list_jobs['SF'])\n",
    "data_TX = pd.read_csv(file_list_jobs['TX'])\n",
    "data_WA = pd.read_csv(file_list_jobs['WA'])\n",
    "data_NY = pd.read_csv(file_list_jobs['NY'])"
   ]
  },
  {
   "cell_type": "code",
   "execution_count": 7,
   "id": "supported-accuracy",
   "metadata": {},
   "outputs": [],
   "source": [
    "data_jobspikr = pd.read_csv(file_jobspikr)"
   ]
  },
  {
   "cell_type": "code",
   "execution_count": 8,
   "id": "injured-puzzle",
   "metadata": {},
   "outputs": [],
   "source": [
    "### Check Suspect NY - might be all job titles"
   ]
  },
  {
   "cell_type": "code",
   "execution_count": 9,
   "id": "scenic-arrow",
   "metadata": {},
   "outputs": [
    {
     "data": {
      "text/plain": [
       "array(['Chief Marketing Officer (CMO)', 'Registered Nurse',\n",
       "       'Dental Hygienist', 'Senior Salesforce Developer',\n",
       "       'DEPUTY EXECUTIVE DIRECTOR, PROGRAM AND LEGAL ADVOCACY',\n",
       "       'Emergency Veterinarian - NYC', 'ABA Therapist',\n",
       "       'Construction Project Manager', 'Diesel Mechanic', 'Plumber',\n",
       "       'OT/ICS Systems Engineer', 'Paid Search Director',\n",
       "       'Principal Incident Response Consultant',\n",
       "       'Emergency Veterinary Technician',\n",
       "       'Principal, Sr. Consultant – Creative Technologist',\n",
       "       'RN/LPN (PRN)', 'Lab - Medical Technologist',\n",
       "       'Mammography Technologist PRN',\n",
       "       'Regional Vice President – Partner Development (East Coast)',\n",
       "       'Forward Deployed Engineer', 'Senior Estimator/Project Manager',\n",
       "       'Interested in KWT Global?', 'Pest Control Technician',\n",
       "       'Doctor of Veterinary Medicine', 'Hair Stylist', 'RN / LPN',\n",
       "       'Ultrasound Technologist', 'NYS Licensed Psychologist',\n",
       "       'Lead Pharmacy Technician: Billing',\n",
       "       'Experienced A level mechanic'], dtype=object)"
      ]
     },
     "execution_count": 9,
     "metadata": {},
     "output_type": "execute_result"
    }
   ],
   "source": [
    "data_NY['Job_title'].unique()"
   ]
  },
  {
   "cell_type": "markdown",
   "id": "split-norwegian",
   "metadata": {},
   "source": [
    "### Jobspiker Data"
   ]
  },
  {
   "cell_type": "code",
   "execution_count": 10,
   "id": "italic-beads",
   "metadata": {},
   "outputs": [],
   "source": [
    "data_jobspikr['crawl_timestamp'] = pd.to_datetime(data_jobspikr['crawl_timestamp'])\n",
    "data_jobspikr['post_date'] = pd.to_datetime(data_jobspikr['post_date'])"
   ]
  },
  {
   "cell_type": "code",
   "execution_count": 11,
   "id": "pressed-budget",
   "metadata": {},
   "outputs": [
    {
     "name": "stdout",
     "output_type": "stream",
     "text": [
      "<class 'pandas.core.frame.DataFrame'>\n",
      "RangeIndex: 10000 entries, 0 to 9999\n",
      "Data columns (total 22 columns):\n",
      " #   Column                Non-Null Count  Dtype              \n",
      "---  ------                --------------  -----              \n",
      " 0   crawl_timestamp       10000 non-null  datetime64[ns, UTC]\n",
      " 1   url                   10000 non-null  object             \n",
      " 2   job_title             10000 non-null  object             \n",
      " 3   category              9118 non-null   object             \n",
      " 4   company_name          9999 non-null   object             \n",
      " 5   city                  9751 non-null   object             \n",
      " 6   state                 9584 non-null   object             \n",
      " 7   country               10000 non-null  object             \n",
      " 8   inferred_city         8980 non-null   object             \n",
      " 9   inferred_state        9484 non-null   object             \n",
      " 10  inferred_country      9505 non-null   object             \n",
      " 11  post_date             10000 non-null  datetime64[ns]     \n",
      " 12  job_description       10000 non-null  object             \n",
      " 13  job_type              10000 non-null  object             \n",
      " 14  salary_offered        597 non-null    object             \n",
      " 15  job_board             9310 non-null   object             \n",
      " 16  geo                   9300 non-null   object             \n",
      " 17  cursor                10000 non-null  int64              \n",
      " 18  contact_email         0 non-null      float64            \n",
      " 19  contact_phone_number  416 non-null    object             \n",
      " 20  uniq_id               10000 non-null  object             \n",
      " 21  html_job_description  1599 non-null   object             \n",
      "dtypes: datetime64[ns, UTC](1), datetime64[ns](1), float64(1), int64(1), object(18)\n",
      "memory usage: 1.7+ MB\n"
     ]
    }
   ],
   "source": [
    "data_jobspikr.info()"
   ]
  },
  {
   "cell_type": "code",
   "execution_count": 12,
   "id": "dutch-brooklyn",
   "metadata": {},
   "outputs": [
    {
     "data": {
      "text/plain": [
       "array(['Chief Marketing Officer (CMO)', 'Registered Nurse',\n",
       "       'Dental Hygienist', 'Senior Salesforce Developer',\n",
       "       'DEPUTY EXECUTIVE DIRECTOR, PROGRAM AND LEGAL ADVOCACY',\n",
       "       'Emergency Veterinarian - NYC', 'ABA Therapist',\n",
       "       'Construction Project Manager', 'Diesel Mechanic', 'Plumber',\n",
       "       'OT/ICS Systems Engineer', 'Paid Search Director',\n",
       "       'Principal Incident Response Consultant',\n",
       "       'Emergency Veterinary Technician',\n",
       "       'Principal, Sr. Consultant – Creative Technologist',\n",
       "       'RN/LPN (PRN)', 'Lab - Medical Technologist',\n",
       "       'Mammography Technologist PRN',\n",
       "       'Regional Vice President – Partner Development (East Coast)',\n",
       "       'Forward Deployed Engineer', 'Senior Estimator/Project Manager',\n",
       "       'Interested in KWT Global?', 'Pest Control Technician',\n",
       "       'Doctor of Veterinary Medicine', 'Hair Stylist', 'RN / LPN',\n",
       "       'Ultrasound Technologist', 'NYS Licensed Psychologist',\n",
       "       'Lead Pharmacy Technician: Billing',\n",
       "       'Experienced A level mechanic'], dtype=object)"
      ]
     },
     "execution_count": 12,
     "metadata": {},
     "output_type": "execute_result"
    }
   ],
   "source": [
    "data_NY['Job_title'].unique()"
   ]
  },
  {
   "cell_type": "markdown",
   "id": "scenic-conducting",
   "metadata": {},
   "source": [
    "### Investigate SF Data"
   ]
  },
  {
   "cell_type": "code",
   "execution_count": 13,
   "id": "ignored-electricity",
   "metadata": {},
   "outputs": [],
   "source": [
    "data_SF['Date_Posted'] = pd.to_datetime(data_SF['Date_Posted'])\n",
    "data_SF['Valid_until'] = pd.to_datetime(data_SF['Valid_until'])"
   ]
  },
  {
   "cell_type": "code",
   "execution_count": 14,
   "id": "automatic-fantasy",
   "metadata": {},
   "outputs": [
    {
     "data": {
      "text/html": [
       "<div>\n",
       "<style scoped>\n",
       "    .dataframe tbody tr th:only-of-type {\n",
       "        vertical-align: middle;\n",
       "    }\n",
       "\n",
       "    .dataframe tbody tr th {\n",
       "        vertical-align: top;\n",
       "    }\n",
       "\n",
       "    .dataframe thead th {\n",
       "        text-align: right;\n",
       "    }\n",
       "</style>\n",
       "<table border=\"1\" class=\"dataframe\">\n",
       "  <thead>\n",
       "    <tr style=\"text-align: right;\">\n",
       "      <th></th>\n",
       "      <th>Job_title</th>\n",
       "      <th>Company</th>\n",
       "      <th>State</th>\n",
       "      <th>City</th>\n",
       "      <th>Min_Salary</th>\n",
       "      <th>Max_Salary</th>\n",
       "      <th>Job_Desc</th>\n",
       "      <th>Industry</th>\n",
       "      <th>Rating</th>\n",
       "      <th>Date_Posted</th>\n",
       "      <th>Valid_until</th>\n",
       "      <th>Job_Type</th>\n",
       "    </tr>\n",
       "  </thead>\n",
       "  <tbody>\n",
       "    <tr>\n",
       "      <th>0</th>\n",
       "      <td>Senior Data Scientist - Underwriting Algorithms</td>\n",
       "      <td>Faire</td>\n",
       "      <td>CA</td>\n",
       "      <td>San Francisco</td>\n",
       "      <td>151875</td>\n",
       "      <td>170407</td>\n",
       "      <td>Faire is using machine learning to change whol...</td>\n",
       "      <td>Business Services</td>\n",
       "      <td>4.3</td>\n",
       "      <td>2020-05-06</td>\n",
       "      <td>2020-06-05</td>\n",
       "      <td>FULL_TIME</td>\n",
       "    </tr>\n",
       "    <tr>\n",
       "      <th>1</th>\n",
       "      <td>Data Scientist</td>\n",
       "      <td>GovTech</td>\n",
       "      <td>CA</td>\n",
       "      <td>San Francisco</td>\n",
       "      <td>78594</td>\n",
       "      <td>147225</td>\n",
       "      <td>We are looking for Data Scientists who are int...</td>\n",
       "      <td>Government</td>\n",
       "      <td>3.6</td>\n",
       "      <td>2020-05-01</td>\n",
       "      <td>2020-06-05</td>\n",
       "      <td>FULL_TIME</td>\n",
       "    </tr>\n",
       "  </tbody>\n",
       "</table>\n",
       "</div>"
      ],
      "text/plain": [
       "                                         Job_title  Company State  \\\n",
       "0  Senior Data Scientist - Underwriting Algorithms    Faire    CA   \n",
       "1                                   Data Scientist  GovTech    CA   \n",
       "\n",
       "            City  Min_Salary  Max_Salary  \\\n",
       "0  San Francisco      151875      170407   \n",
       "1  San Francisco       78594      147225   \n",
       "\n",
       "                                            Job_Desc           Industry  \\\n",
       "0  Faire is using machine learning to change whol...  Business Services   \n",
       "1  We are looking for Data Scientists who are int...         Government   \n",
       "\n",
       "   Rating Date_Posted Valid_until   Job_Type  \n",
       "0     4.3  2020-05-06  2020-06-05  FULL_TIME  \n",
       "1     3.6  2020-05-01  2020-06-05  FULL_TIME  "
      ]
     },
     "execution_count": 14,
     "metadata": {},
     "output_type": "execute_result"
    }
   ],
   "source": [
    "data_SF.head(2)"
   ]
  },
  {
   "cell_type": "code",
   "execution_count": 15,
   "id": "functioning-halifax",
   "metadata": {},
   "outputs": [
    {
     "name": "stdout",
     "output_type": "stream",
     "text": [
      "<class 'pandas.core.frame.DataFrame'>\n",
      "RangeIndex: 889 entries, 0 to 888\n",
      "Data columns (total 12 columns):\n",
      " #   Column       Non-Null Count  Dtype         \n",
      "---  ------       --------------  -----         \n",
      " 0   Job_title    889 non-null    object        \n",
      " 1   Company      889 non-null    object        \n",
      " 2   State        889 non-null    object        \n",
      " 3   City         889 non-null    object        \n",
      " 4   Min_Salary   889 non-null    int64         \n",
      " 5   Max_Salary   889 non-null    int64         \n",
      " 6   Job_Desc     889 non-null    object        \n",
      " 7   Industry     767 non-null    object        \n",
      " 8   Rating       808 non-null    float64       \n",
      " 9   Date_Posted  889 non-null    datetime64[ns]\n",
      " 10  Valid_until  889 non-null    datetime64[ns]\n",
      " 11  Job_Type     889 non-null    object        \n",
      "dtypes: datetime64[ns](2), float64(1), int64(2), object(7)\n",
      "memory usage: 83.5+ KB\n"
     ]
    }
   ],
   "source": [
    "data_SF.info()"
   ]
  },
  {
   "cell_type": "code",
   "execution_count": 16,
   "id": "dependent-newport",
   "metadata": {},
   "outputs": [
    {
     "data": {
      "text/plain": [
       "array(['CA', 'KY'], dtype=object)"
      ]
     },
     "execution_count": 16,
     "metadata": {},
     "output_type": "execute_result"
    }
   ],
   "source": [
    "data_SF['State'].unique()"
   ]
  },
  {
   "cell_type": "code",
   "execution_count": 17,
   "id": "noted-annex",
   "metadata": {},
   "outputs": [
    {
     "name": "stdout",
     "output_type": "stream",
     "text": [
      "<class 'pandas.core.frame.DataFrame'>\n",
      "RangeIndex: 889 entries, 0 to 888\n",
      "Data columns (total 12 columns):\n",
      " #   Column       Non-Null Count  Dtype         \n",
      "---  ------       --------------  -----         \n",
      " 0   Job_title    889 non-null    object        \n",
      " 1   Company      889 non-null    object        \n",
      " 2   State        889 non-null    object        \n",
      " 3   City         889 non-null    object        \n",
      " 4   Min_Salary   889 non-null    int64         \n",
      " 5   Max_Salary   889 non-null    int64         \n",
      " 6   Job_Desc     889 non-null    object        \n",
      " 7   Industry     767 non-null    object        \n",
      " 8   Rating       808 non-null    float64       \n",
      " 9   Date_Posted  889 non-null    datetime64[ns]\n",
      " 10  Valid_until  889 non-null    datetime64[ns]\n",
      " 11  Job_Type     889 non-null    object        \n",
      "dtypes: datetime64[ns](2), float64(1), int64(2), object(7)\n",
      "memory usage: 83.5+ KB\n"
     ]
    }
   ],
   "source": [
    "data_SF.info()"
   ]
  },
  {
   "cell_type": "markdown",
   "id": "mature-maximum",
   "metadata": {},
   "source": [
    "### Investigate WA Data"
   ]
  },
  {
   "cell_type": "code",
   "execution_count": 18,
   "id": "separated-ground",
   "metadata": {},
   "outputs": [],
   "source": [
    "data_WA['Date_Posted'] = pd.to_datetime(data_WA['Date_Posted'])\n",
    "data_WA['Valid_until'] = pd.to_datetime(data_WA['Valid_until'])"
   ]
  },
  {
   "cell_type": "code",
   "execution_count": 19,
   "id": "weekly-picture",
   "metadata": {},
   "outputs": [
    {
     "data": {
      "text/html": [
       "<div>\n",
       "<style scoped>\n",
       "    .dataframe tbody tr th:only-of-type {\n",
       "        vertical-align: middle;\n",
       "    }\n",
       "\n",
       "    .dataframe tbody tr th {\n",
       "        vertical-align: top;\n",
       "    }\n",
       "\n",
       "    .dataframe thead th {\n",
       "        text-align: right;\n",
       "    }\n",
       "</style>\n",
       "<table border=\"1\" class=\"dataframe\">\n",
       "  <thead>\n",
       "    <tr style=\"text-align: right;\">\n",
       "      <th></th>\n",
       "      <th>Job_title</th>\n",
       "      <th>Company</th>\n",
       "      <th>State</th>\n",
       "      <th>City</th>\n",
       "      <th>Min_Salary</th>\n",
       "      <th>Max_Salary</th>\n",
       "      <th>Job_Desc</th>\n",
       "      <th>Industry</th>\n",
       "      <th>Rating</th>\n",
       "      <th>Date_Posted</th>\n",
       "      <th>Valid_until</th>\n",
       "      <th>Job_Type</th>\n",
       "    </tr>\n",
       "  </thead>\n",
       "  <tbody>\n",
       "    <tr>\n",
       "      <th>0</th>\n",
       "      <td>Data Scientist</td>\n",
       "      <td>ManTech</td>\n",
       "      <td>VA</td>\n",
       "      <td>Chantilly</td>\n",
       "      <td>108486</td>\n",
       "      <td>145165</td>\n",
       "      <td>This company is in a hiring surge in response ...</td>\n",
       "      <td>Business Services</td>\n",
       "      <td>4.1</td>\n",
       "      <td>2020-04-30</td>\n",
       "      <td>2020-06-06</td>\n",
       "      <td>FULL_TIME</td>\n",
       "    </tr>\n",
       "    <tr>\n",
       "      <th>1</th>\n",
       "      <td>Data Scientist</td>\n",
       "      <td>GEICO</td>\n",
       "      <td>MD</td>\n",
       "      <td>Chevy Chase</td>\n",
       "      <td>69285</td>\n",
       "      <td>113337</td>\n",
       "      <td>GEICO’s Data Science team uses predictive anal...</td>\n",
       "      <td>Insurance</td>\n",
       "      <td>3.3</td>\n",
       "      <td>2020-05-02</td>\n",
       "      <td>2020-06-06</td>\n",
       "      <td>FULL_TIME</td>\n",
       "    </tr>\n",
       "  </tbody>\n",
       "</table>\n",
       "</div>"
      ],
      "text/plain": [
       "        Job_title  Company State         City  Min_Salary  Max_Salary  \\\n",
       "0  Data Scientist  ManTech    VA    Chantilly      108486      145165   \n",
       "1  Data Scientist    GEICO    MD  Chevy Chase       69285      113337   \n",
       "\n",
       "                                            Job_Desc           Industry  \\\n",
       "0  This company is in a hiring surge in response ...  Business Services   \n",
       "1  GEICO’s Data Science team uses predictive anal...          Insurance   \n",
       "\n",
       "   Rating Date_Posted Valid_until   Job_Type  \n",
       "0     4.1  2020-04-30  2020-06-06  FULL_TIME  \n",
       "1     3.3  2020-05-02  2020-06-06  FULL_TIME  "
      ]
     },
     "execution_count": 19,
     "metadata": {},
     "output_type": "execute_result"
    }
   ],
   "source": [
    "data_WA.head(2)"
   ]
  },
  {
   "cell_type": "code",
   "execution_count": 20,
   "id": "behavioral-account",
   "metadata": {},
   "outputs": [
    {
     "name": "stdout",
     "output_type": "stream",
     "text": [
      "<class 'pandas.core.frame.DataFrame'>\n",
      "RangeIndex: 892 entries, 0 to 891\n",
      "Data columns (total 12 columns):\n",
      " #   Column       Non-Null Count  Dtype         \n",
      "---  ------       --------------  -----         \n",
      " 0   Job_title    892 non-null    object        \n",
      " 1   Company      892 non-null    object        \n",
      " 2   State        890 non-null    object        \n",
      " 3   City         892 non-null    object        \n",
      " 4   Min_Salary   892 non-null    int64         \n",
      " 5   Max_Salary   892 non-null    int64         \n",
      " 6   Job_Desc     892 non-null    object        \n",
      " 7   Industry     761 non-null    object        \n",
      " 8   Rating       794 non-null    float64       \n",
      " 9   Date_Posted  892 non-null    datetime64[ns]\n",
      " 10  Valid_until  892 non-null    datetime64[ns]\n",
      " 11  Job_Type     892 non-null    object        \n",
      "dtypes: datetime64[ns](2), float64(1), int64(2), object(7)\n",
      "memory usage: 83.8+ KB\n"
     ]
    }
   ],
   "source": [
    "data_WA.info()"
   ]
  },
  {
   "cell_type": "code",
   "execution_count": 21,
   "id": "collectible-newsletter",
   "metadata": {},
   "outputs": [
    {
     "data": {
      "text/plain": [
       "array(['VA', 'MD', 'DC', 'NC', nan, 'TX'], dtype=object)"
      ]
     },
     "execution_count": 21,
     "metadata": {},
     "output_type": "execute_result"
    }
   ],
   "source": [
    "data_WA['State'].unique()"
   ]
  },
  {
   "cell_type": "code",
   "execution_count": 22,
   "id": "looking-female",
   "metadata": {},
   "outputs": [
    {
     "data": {
      "text/plain": [
       "array(['Business Services', 'Insurance', 'Aerospace & Defense',\n",
       "       'Information Technology', 'Health Care', nan, 'Government',\n",
       "       'Biotech & Pharmaceuticals', 'Finance',\n",
       "       'Oil, Gas, Energy & Utilities', 'Education', 'Retail',\n",
       "       'Transportation & Logistics', 'Media', 'Non-Profit',\n",
       "       'Manufacturing', 'Accounting & Legal', 'Telecommunications'],\n",
       "      dtype=object)"
      ]
     },
     "execution_count": 22,
     "metadata": {},
     "output_type": "execute_result"
    }
   ],
   "source": [
    "data_WA['Industry'].unique()"
   ]
  },
  {
   "cell_type": "markdown",
   "id": "initial-antenna",
   "metadata": {},
   "source": [
    "### Investigate TX Data"
   ]
  },
  {
   "cell_type": "code",
   "execution_count": 23,
   "id": "fitting-orlando",
   "metadata": {},
   "outputs": [],
   "source": [
    "data_TX['Date_Posted'] = pd.to_datetime(data_TX['Date_Posted'])\n",
    "data_TX['Valid_until'] = pd.to_datetime(data_TX['Valid_until'])"
   ]
  },
  {
   "cell_type": "code",
   "execution_count": 24,
   "id": "ahead-parameter",
   "metadata": {},
   "outputs": [
    {
     "data": {
      "text/html": [
       "<div>\n",
       "<style scoped>\n",
       "    .dataframe tbody tr th:only-of-type {\n",
       "        vertical-align: middle;\n",
       "    }\n",
       "\n",
       "    .dataframe tbody tr th {\n",
       "        vertical-align: top;\n",
       "    }\n",
       "\n",
       "    .dataframe thead th {\n",
       "        text-align: right;\n",
       "    }\n",
       "</style>\n",
       "<table border=\"1\" class=\"dataframe\">\n",
       "  <thead>\n",
       "    <tr style=\"text-align: right;\">\n",
       "      <th></th>\n",
       "      <th>Job_title</th>\n",
       "      <th>Company</th>\n",
       "      <th>State</th>\n",
       "      <th>City</th>\n",
       "      <th>Min_Salary</th>\n",
       "      <th>Max_Salary</th>\n",
       "      <th>Job_Desc</th>\n",
       "      <th>Industry</th>\n",
       "      <th>Rating</th>\n",
       "      <th>Date_Posted</th>\n",
       "      <th>Valid_until</th>\n",
       "      <th>Job_Type</th>\n",
       "    </tr>\n",
       "  </thead>\n",
       "  <tbody>\n",
       "    <tr>\n",
       "      <th>0</th>\n",
       "      <td>Senior Data Scientist</td>\n",
       "      <td>Brinks Home Security</td>\n",
       "      <td>TX</td>\n",
       "      <td>Dallas</td>\n",
       "      <td>81260</td>\n",
       "      <td>101976</td>\n",
       "      <td>Brinks Home Security™ is a proven leader in th...</td>\n",
       "      <td>Business Services</td>\n",
       "      <td>3.4</td>\n",
       "      <td>2020-04-30</td>\n",
       "      <td>2020-06-06</td>\n",
       "      <td>FULL_TIME</td>\n",
       "    </tr>\n",
       "    <tr>\n",
       "      <th>1</th>\n",
       "      <td>Machine Learning/Data Analyst</td>\n",
       "      <td>Applied Research Laboratories</td>\n",
       "      <td>TX</td>\n",
       "      <td>Austin</td>\n",
       "      <td>69500</td>\n",
       "      <td>80000</td>\n",
       "      <td>This company is in a hiring surge in response ...</td>\n",
       "      <td>Education</td>\n",
       "      <td>3.8</td>\n",
       "      <td>2020-05-01</td>\n",
       "      <td>2020-06-06</td>\n",
       "      <td>FULL_TIME</td>\n",
       "    </tr>\n",
       "  </tbody>\n",
       "</table>\n",
       "</div>"
      ],
      "text/plain": [
       "                       Job_title                        Company State    City  \\\n",
       "0          Senior Data Scientist           Brinks Home Security    TX  Dallas   \n",
       "1  Machine Learning/Data Analyst  Applied Research Laboratories    TX  Austin   \n",
       "\n",
       "   Min_Salary  Max_Salary                                           Job_Desc  \\\n",
       "0       81260      101976  Brinks Home Security™ is a proven leader in th...   \n",
       "1       69500       80000  This company is in a hiring surge in response ...   \n",
       "\n",
       "            Industry  Rating Date_Posted Valid_until   Job_Type  \n",
       "0  Business Services     3.4  2020-04-30  2020-06-06  FULL_TIME  \n",
       "1          Education     3.8  2020-05-01  2020-06-06  FULL_TIME  "
      ]
     },
     "execution_count": 24,
     "metadata": {},
     "output_type": "execute_result"
    }
   ],
   "source": [
    "data_TX.head(2)"
   ]
  },
  {
   "cell_type": "code",
   "execution_count": 25,
   "id": "mechanical-treasury",
   "metadata": {},
   "outputs": [
    {
     "name": "stdout",
     "output_type": "stream",
     "text": [
      "<class 'pandas.core.frame.DataFrame'>\n",
      "RangeIndex: 643 entries, 0 to 642\n",
      "Data columns (total 12 columns):\n",
      " #   Column       Non-Null Count  Dtype         \n",
      "---  ------       --------------  -----         \n",
      " 0   Job_title    643 non-null    object        \n",
      " 1   Company      643 non-null    object        \n",
      " 2   State        643 non-null    object        \n",
      " 3   City         637 non-null    object        \n",
      " 4   Min_Salary   643 non-null    int64         \n",
      " 5   Max_Salary   643 non-null    int64         \n",
      " 6   Job_Desc     643 non-null    object        \n",
      " 7   Industry     572 non-null    object        \n",
      " 8   Rating       587 non-null    float64       \n",
      " 9   Date_Posted  643 non-null    datetime64[ns]\n",
      " 10  Valid_until  643 non-null    datetime64[ns]\n",
      " 11  Job_Type     643 non-null    object        \n",
      "dtypes: datetime64[ns](2), float64(1), int64(2), object(7)\n",
      "memory usage: 60.4+ KB\n"
     ]
    }
   ],
   "source": [
    "data_TX.info()"
   ]
  },
  {
   "cell_type": "code",
   "execution_count": 26,
   "id": "rising-witness",
   "metadata": {},
   "outputs": [
    {
     "data": {
      "text/plain": [
       "array(['Business Services', 'Education', 'Information Technology',\n",
       "       'Biotech & Pharmaceuticals', 'Insurance', 'Media', nan,\n",
       "       'Oil, Gas, Energy & Utilities', 'Finance', 'Health Care',\n",
       "       'Accounting & Legal', 'Consumer Services', 'Manufacturing',\n",
       "       'Aerospace & Defense', 'Telecommunications', 'Retail',\n",
       "       'Government', 'Arts, Entertainment & Recreation', 'Real Estate',\n",
       "       'Restaurants, Bars & Food Services', 'Transportation & Logistics',\n",
       "       'Construction, Repair & Maintenance'], dtype=object)"
      ]
     },
     "execution_count": 26,
     "metadata": {},
     "output_type": "execute_result"
    }
   ],
   "source": [
    "data_TX['Industry'].unique()"
   ]
  },
  {
   "cell_type": "markdown",
   "id": "champion-option",
   "metadata": {},
   "source": [
    "# Combine Columns - columns are same and we have filter column"
   ]
  },
  {
   "cell_type": "code",
   "execution_count": 27,
   "id": "convenient-apartment",
   "metadata": {},
   "outputs": [],
   "source": [
    "data_all = pd.concat([data_TX,data_SF,data_WA])\n",
    "data_all.reset_index(inplace=True)"
   ]
  },
  {
   "cell_type": "code",
   "execution_count": 28,
   "id": "collaborative-valley",
   "metadata": {},
   "outputs": [
    {
     "name": "stdout",
     "output_type": "stream",
     "text": [
      "<class 'pandas.core.frame.DataFrame'>\n",
      "RangeIndex: 2424 entries, 0 to 2423\n",
      "Data columns (total 13 columns):\n",
      " #   Column       Non-Null Count  Dtype         \n",
      "---  ------       --------------  -----         \n",
      " 0   index        2424 non-null   int64         \n",
      " 1   Job_title    2424 non-null   object        \n",
      " 2   Company      2424 non-null   object        \n",
      " 3   State        2422 non-null   object        \n",
      " 4   City         2418 non-null   object        \n",
      " 5   Min_Salary   2424 non-null   int64         \n",
      " 6   Max_Salary   2424 non-null   int64         \n",
      " 7   Job_Desc     2424 non-null   object        \n",
      " 8   Industry     2100 non-null   object        \n",
      " 9   Rating       2189 non-null   float64       \n",
      " 10  Date_Posted  2424 non-null   datetime64[ns]\n",
      " 11  Valid_until  2424 non-null   datetime64[ns]\n",
      " 12  Job_Type     2424 non-null   object        \n",
      "dtypes: datetime64[ns](2), float64(1), int64(3), object(7)\n",
      "memory usage: 246.3+ KB\n"
     ]
    }
   ],
   "source": [
    "data_all.info()"
   ]
  },
  {
   "cell_type": "code",
   "execution_count": 29,
   "id": "latest-brazilian",
   "metadata": {},
   "outputs": [
    {
     "data": {
      "text/plain": [
       "array(['TX', 'Texas', 'TN', 'CA', 'KY', 'VA', 'MD', 'DC', 'NC', nan],\n",
       "      dtype=object)"
      ]
     },
     "execution_count": 29,
     "metadata": {},
     "output_type": "execute_result"
    }
   ],
   "source": [
    "data_all['State'].unique()"
   ]
  },
  {
   "cell_type": "code",
   "execution_count": 30,
   "id": "bound-lloyd",
   "metadata": {},
   "outputs": [],
   "source": [
    "profile = ppf.ProfileReport(data_all, title='Data Science Jobs Glassdoor',dark_mode=True,explorative=True)"
   ]
  },
  {
   "cell_type": "code",
   "execution_count": 31,
   "id": "hidden-dutch",
   "metadata": {},
   "outputs": [
    {
     "data": {
      "application/vnd.jupyter.widget-view+json": {
       "model_id": "9a60c78b20d746acb3994f19b4dda37f",
       "version_major": 2,
       "version_minor": 0
      },
      "text/plain": [
       "Summarize dataset:   0%|          | 0/27 [00:00<?, ?it/s]"
      ]
     },
     "metadata": {},
     "output_type": "display_data"
    },
    {
     "data": {
      "application/vnd.jupyter.widget-view+json": {
       "model_id": "1eefa8781b444f418fb7ccbc344c2ec0",
       "version_major": 2,
       "version_minor": 0
      },
      "text/plain": [
       "Generate report structure:   0%|          | 0/1 [00:00<?, ?it/s]"
      ]
     },
     "metadata": {},
     "output_type": "display_data"
    },
    {
     "data": {
      "application/vnd.jupyter.widget-view+json": {
       "model_id": "0a399f5123074f48b067b0654e78f3c2",
       "version_major": 2,
       "version_minor": 0
      },
      "text/plain": [
       "Render widgets:   0%|          | 0/1 [00:00<?, ?it/s]"
      ]
     },
     "metadata": {},
     "output_type": "display_data"
    },
    {
     "data": {
      "text/html": [
       "<div>\n",
       "<style scoped>\n",
       "    .dataframe tbody tr th:only-of-type {\n",
       "        vertical-align: middle;\n",
       "    }\n",
       "\n",
       "    .dataframe tbody tr th {\n",
       "        vertical-align: top;\n",
       "    }\n",
       "\n",
       "    .dataframe thead th {\n",
       "        text-align: right;\n",
       "    }\n",
       "</style>\n",
       "<table border=\"1\" class=\"dataframe\">\n",
       "  <thead>\n",
       "    <tr style=\"text-align: right;\">\n",
       "      <th></th>\n",
       "      <th>df_index</th>\n",
       "      <th>Job_title</th>\n",
       "      <th>Company</th>\n",
       "      <th>State</th>\n",
       "      <th>City</th>\n",
       "      <th>Min_Salary</th>\n",
       "      <th>Max_Salary</th>\n",
       "      <th>Job_Desc</th>\n",
       "      <th>Industry</th>\n",
       "      <th>Rating</th>\n",
       "      <th>Date_Posted</th>\n",
       "      <th>Valid_until</th>\n",
       "      <th>Job_Type</th>\n",
       "    </tr>\n",
       "  </thead>\n",
       "  <tbody>\n",
       "    <tr>\n",
       "      <th>0</th>\n",
       "      <td>0</td>\n",
       "      <td>Senior Data Scientist</td>\n",
       "      <td>Brinks Home Security</td>\n",
       "      <td>TX</td>\n",
       "      <td>Dallas</td>\n",
       "      <td>81260</td>\n",
       "      <td>101976</td>\n",
       "      <td>Brinks Home Security™ is a proven leader in th...</td>\n",
       "      <td>Business Services</td>\n",
       "      <td>3.4</td>\n",
       "      <td>2020-04-30</td>\n",
       "      <td>2020-06-06</td>\n",
       "      <td>FULL_TIME</td>\n",
       "    </tr>\n",
       "    <tr>\n",
       "      <th>1</th>\n",
       "      <td>1</td>\n",
       "      <td>Machine Learning/Data Analyst</td>\n",
       "      <td>Applied Research Laboratories</td>\n",
       "      <td>TX</td>\n",
       "      <td>Austin</td>\n",
       "      <td>69500</td>\n",
       "      <td>80000</td>\n",
       "      <td>This company is in a hiring surge in response ...</td>\n",
       "      <td>Education</td>\n",
       "      <td>3.8</td>\n",
       "      <td>2020-05-01</td>\n",
       "      <td>2020-06-06</td>\n",
       "      <td>FULL_TIME</td>\n",
       "    </tr>\n",
       "    <tr>\n",
       "      <th>2</th>\n",
       "      <td>2</td>\n",
       "      <td>Insurance Data Analyst</td>\n",
       "      <td>Applied Systems, Inc.</td>\n",
       "      <td>TX</td>\n",
       "      <td>Austin</td>\n",
       "      <td>31518</td>\n",
       "      <td>60395</td>\n",
       "      <td>Indio, an insurance technology company, is cur...</td>\n",
       "      <td>Information Technology</td>\n",
       "      <td>4.1</td>\n",
       "      <td>2020-05-05</td>\n",
       "      <td>2020-06-06</td>\n",
       "      <td>FULL_TIME</td>\n",
       "    </tr>\n",
       "    <tr>\n",
       "      <th>3</th>\n",
       "      <td>3</td>\n",
       "      <td>Scientist II, Cell &amp; Tissue Reference Laboratory</td>\n",
       "      <td>BioBridge Global</td>\n",
       "      <td>TX</td>\n",
       "      <td>San Antonio</td>\n",
       "      <td>41822</td>\n",
       "      <td>91420</td>\n",
       "      <td>Our organization is unique in that we are a no...</td>\n",
       "      <td>Biotech &amp; Pharmaceuticals</td>\n",
       "      <td>2.2</td>\n",
       "      <td>2020-05-07</td>\n",
       "      <td>2020-06-06</td>\n",
       "      <td>FULL_TIME</td>\n",
       "    </tr>\n",
       "    <tr>\n",
       "      <th>4</th>\n",
       "      <td>4</td>\n",
       "      <td>Associate Scientist, Process Development &amp; Man...</td>\n",
       "      <td>BioBridge Global</td>\n",
       "      <td>TX</td>\n",
       "      <td>San Antonio</td>\n",
       "      <td>43286</td>\n",
       "      <td>56254</td>\n",
       "      <td>Our organization is unique in that we are a no...</td>\n",
       "      <td>Biotech &amp; Pharmaceuticals</td>\n",
       "      <td>2.2</td>\n",
       "      <td>2020-04-25</td>\n",
       "      <td>2020-06-06</td>\n",
       "      <td>FULL_TIME</td>\n",
       "    </tr>\n",
       "    <tr>\n",
       "      <th>5</th>\n",
       "      <td>5</td>\n",
       "      <td>Data Analyst II</td>\n",
       "      <td>Insight Enterprises, Inc.</td>\n",
       "      <td>TX</td>\n",
       "      <td>Plano</td>\n",
       "      <td>50099</td>\n",
       "      <td>55348</td>\n",
       "      <td>The Data Analyst II is responsible for data en...</td>\n",
       "      <td>Information Technology</td>\n",
       "      <td>4.1</td>\n",
       "      <td>2020-05-03</td>\n",
       "      <td>2020-06-06</td>\n",
       "      <td>FULL_TIME</td>\n",
       "    </tr>\n",
       "    <tr>\n",
       "      <th>6</th>\n",
       "      <td>6</td>\n",
       "      <td>Data Scientist</td>\n",
       "      <td>Health IQ</td>\n",
       "      <td>TX</td>\n",
       "      <td>Dallas</td>\n",
       "      <td>109021</td>\n",
       "      <td>136518</td>\n",
       "      <td>This company is in a hiring surge in response ...</td>\n",
       "      <td>Insurance</td>\n",
       "      <td>4.1</td>\n",
       "      <td>2020-05-05</td>\n",
       "      <td>2020-06-06</td>\n",
       "      <td>FULL_TIME</td>\n",
       "    </tr>\n",
       "    <tr>\n",
       "      <th>7</th>\n",
       "      <td>7</td>\n",
       "      <td>Director, Data Science</td>\n",
       "      <td>United Entertainment Group</td>\n",
       "      <td>TX</td>\n",
       "      <td>Dallas</td>\n",
       "      <td>79409</td>\n",
       "      <td>132138</td>\n",
       "      <td>Director, Data Science - (200500) Description ...</td>\n",
       "      <td>Business Services</td>\n",
       "      <td>3.4</td>\n",
       "      <td>2020-05-06</td>\n",
       "      <td>2020-06-06</td>\n",
       "      <td>FULL_TIME</td>\n",
       "    </tr>\n",
       "    <tr>\n",
       "      <th>8</th>\n",
       "      <td>8</td>\n",
       "      <td>Data Engineer</td>\n",
       "      <td>SciPlay</td>\n",
       "      <td>TX</td>\n",
       "      <td>Austin</td>\n",
       "      <td>68264</td>\n",
       "      <td>85692</td>\n",
       "      <td>\\n\\n\\n\\n\\n\\n\\nAustin, Texas \\n\\n\\n\\n\\nApply\\n\\...</td>\n",
       "      <td>Media</td>\n",
       "      <td>4.0</td>\n",
       "      <td>2020-05-01</td>\n",
       "      <td>2020-06-06</td>\n",
       "      <td>FULL_TIME</td>\n",
       "    </tr>\n",
       "    <tr>\n",
       "      <th>9</th>\n",
       "      <td>9</td>\n",
       "      <td>Predictive Data Analyst, Fundraising</td>\n",
       "      <td>Publishing Concepts</td>\n",
       "      <td>TX</td>\n",
       "      <td>Dallas</td>\n",
       "      <td>33844</td>\n",
       "      <td>63544</td>\n",
       "      <td>The Predictive Data Analyst assists in managin...</td>\n",
       "      <td>Media</td>\n",
       "      <td>3.1</td>\n",
       "      <td>2020-05-05</td>\n",
       "      <td>2020-06-06</td>\n",
       "      <td>FULL_TIME</td>\n",
       "    </tr>\n",
       "  </tbody>\n",
       "</table>\n",
       "</div>"
      ],
      "text/plain": [
       "   df_index                                          Job_title  \\\n",
       "0         0                              Senior Data Scientist   \n",
       "1         1                      Machine Learning/Data Analyst   \n",
       "2         2                             Insurance Data Analyst   \n",
       "3         3   Scientist II, Cell & Tissue Reference Laboratory   \n",
       "4         4  Associate Scientist, Process Development & Man...   \n",
       "5         5                                    Data Analyst II   \n",
       "6         6                                     Data Scientist   \n",
       "7         7                             Director, Data Science   \n",
       "8         8                                      Data Engineer   \n",
       "9         9               Predictive Data Analyst, Fundraising   \n",
       "\n",
       "                         Company State         City  Min_Salary  Max_Salary  \\\n",
       "0           Brinks Home Security    TX       Dallas       81260      101976   \n",
       "1  Applied Research Laboratories    TX       Austin       69500       80000   \n",
       "2          Applied Systems, Inc.    TX       Austin       31518       60395   \n",
       "3               BioBridge Global    TX  San Antonio       41822       91420   \n",
       "4               BioBridge Global    TX  San Antonio       43286       56254   \n",
       "5      Insight Enterprises, Inc.    TX        Plano       50099       55348   \n",
       "6                      Health IQ    TX       Dallas      109021      136518   \n",
       "7     United Entertainment Group    TX       Dallas       79409      132138   \n",
       "8                        SciPlay    TX       Austin       68264       85692   \n",
       "9            Publishing Concepts    TX       Dallas       33844       63544   \n",
       "\n",
       "                                            Job_Desc  \\\n",
       "0  Brinks Home Security™ is a proven leader in th...   \n",
       "1  This company is in a hiring surge in response ...   \n",
       "2  Indio, an insurance technology company, is cur...   \n",
       "3  Our organization is unique in that we are a no...   \n",
       "4  Our organization is unique in that we are a no...   \n",
       "5  The Data Analyst II is responsible for data en...   \n",
       "6  This company is in a hiring surge in response ...   \n",
       "7  Director, Data Science - (200500) Description ...   \n",
       "8  \\n\\n\\n\\n\\n\\n\\nAustin, Texas \\n\\n\\n\\n\\nApply\\n\\...   \n",
       "9  The Predictive Data Analyst assists in managin...   \n",
       "\n",
       "                    Industry  Rating Date_Posted Valid_until   Job_Type  \n",
       "0          Business Services     3.4  2020-04-30  2020-06-06  FULL_TIME  \n",
       "1                  Education     3.8  2020-05-01  2020-06-06  FULL_TIME  \n",
       "2     Information Technology     4.1  2020-05-05  2020-06-06  FULL_TIME  \n",
       "3  Biotech & Pharmaceuticals     2.2  2020-05-07  2020-06-06  FULL_TIME  \n",
       "4  Biotech & Pharmaceuticals     2.2  2020-04-25  2020-06-06  FULL_TIME  \n",
       "5     Information Technology     4.1  2020-05-03  2020-06-06  FULL_TIME  \n",
       "6                  Insurance     4.1  2020-05-05  2020-06-06  FULL_TIME  \n",
       "7          Business Services     3.4  2020-05-06  2020-06-06  FULL_TIME  \n",
       "8                      Media     4.0  2020-05-01  2020-06-06  FULL_TIME  \n",
       "9                      Media     3.1  2020-05-05  2020-06-06  FULL_TIME  "
      ]
     },
     "metadata": {},
     "output_type": "display_data"
    },
    {
     "data": {
      "text/html": [
       "<div>\n",
       "<style scoped>\n",
       "    .dataframe tbody tr th:only-of-type {\n",
       "        vertical-align: middle;\n",
       "    }\n",
       "\n",
       "    .dataframe tbody tr th {\n",
       "        vertical-align: top;\n",
       "    }\n",
       "\n",
       "    .dataframe thead th {\n",
       "        text-align: right;\n",
       "    }\n",
       "</style>\n",
       "<table border=\"1\" class=\"dataframe\">\n",
       "  <thead>\n",
       "    <tr style=\"text-align: right;\">\n",
       "      <th></th>\n",
       "      <th>df_index</th>\n",
       "      <th>Job_title</th>\n",
       "      <th>Company</th>\n",
       "      <th>State</th>\n",
       "      <th>City</th>\n",
       "      <th>Min_Salary</th>\n",
       "      <th>Max_Salary</th>\n",
       "      <th>Job_Desc</th>\n",
       "      <th>Industry</th>\n",
       "      <th>Rating</th>\n",
       "      <th>Date_Posted</th>\n",
       "      <th>Valid_until</th>\n",
       "      <th>Job_Type</th>\n",
       "    </tr>\n",
       "  </thead>\n",
       "  <tbody>\n",
       "    <tr>\n",
       "      <th>2414</th>\n",
       "      <td>882</td>\n",
       "      <td>Data Science and Machine Learning Engineer</td>\n",
       "      <td>Booz Allen Hamilton Inc.</td>\n",
       "      <td>DC</td>\n",
       "      <td>Washington</td>\n",
       "      <td>59894</td>\n",
       "      <td>108894</td>\n",
       "      <td>Data Science and Machine Learning Engineer\\n\\n...</td>\n",
       "      <td>Business Services</td>\n",
       "      <td>3.7</td>\n",
       "      <td>2020-05-01</td>\n",
       "      <td>2020-06-06</td>\n",
       "      <td>FULL_TIME</td>\n",
       "    </tr>\n",
       "    <tr>\n",
       "      <th>2415</th>\n",
       "      <td>883</td>\n",
       "      <td>Data Science and Machine Learning Engineer wit...</td>\n",
       "      <td>Booz Allen Hamilton</td>\n",
       "      <td>DC</td>\n",
       "      <td>Washington</td>\n",
       "      <td>74364</td>\n",
       "      <td>132506</td>\n",
       "      <td>Job Number: R0076611 Data Science and Machine ...</td>\n",
       "      <td>Business Services</td>\n",
       "      <td>3.7</td>\n",
       "      <td>2020-04-28</td>\n",
       "      <td>2020-06-06</td>\n",
       "      <td>FULL_TIME</td>\n",
       "    </tr>\n",
       "    <tr>\n",
       "      <th>2416</th>\n",
       "      <td>884</td>\n",
       "      <td>Natural Language Processing Applied Research S...</td>\n",
       "      <td>Booz Allen Hamilton</td>\n",
       "      <td>DC</td>\n",
       "      <td>Washington</td>\n",
       "      <td>37937</td>\n",
       "      <td>84049</td>\n",
       "      <td>Job Number: R0074275 Natural Language Processi...</td>\n",
       "      <td>Business Services</td>\n",
       "      <td>3.7</td>\n",
       "      <td>2020-04-24</td>\n",
       "      <td>2020-06-06</td>\n",
       "      <td>FULL_TIME</td>\n",
       "    </tr>\n",
       "    <tr>\n",
       "      <th>2417</th>\n",
       "      <td>885</td>\n",
       "      <td>Data Engineer, Lead with Security Clearance</td>\n",
       "      <td>Booz Allen Hamilton</td>\n",
       "      <td>VA</td>\n",
       "      <td>Arlington</td>\n",
       "      <td>95665</td>\n",
       "      <td>165443</td>\n",
       "      <td>Job Number: R0083366 Data Engineer, Lead\\n\\nTh...</td>\n",
       "      <td>Business Services</td>\n",
       "      <td>3.7</td>\n",
       "      <td>2020-05-02</td>\n",
       "      <td>2020-06-06</td>\n",
       "      <td>FULL_TIME</td>\n",
       "    </tr>\n",
       "    <tr>\n",
       "      <th>2418</th>\n",
       "      <td>886</td>\n",
       "      <td>Data Analyst, Mid with Security Clearance</td>\n",
       "      <td>Booz Allen Hamilton</td>\n",
       "      <td>VA</td>\n",
       "      <td>Arlington</td>\n",
       "      <td>51373</td>\n",
       "      <td>92403</td>\n",
       "      <td>Job Number: R0083364 Data Analyst, Mid\\n\\nThe ...</td>\n",
       "      <td>Business Services</td>\n",
       "      <td>3.7</td>\n",
       "      <td>2020-05-06</td>\n",
       "      <td>2020-06-06</td>\n",
       "      <td>FULL_TIME</td>\n",
       "    </tr>\n",
       "    <tr>\n",
       "      <th>2419</th>\n",
       "      <td>887</td>\n",
       "      <td>Data Engineer/Architect with Security Clearance</td>\n",
       "      <td>Booz Allen Hamilton</td>\n",
       "      <td>VA</td>\n",
       "      <td>McLean</td>\n",
       "      <td>74916</td>\n",
       "      <td>128610</td>\n",
       "      <td>Job Number: R0082817 Data Engineer/Architect\\n...</td>\n",
       "      <td>Business Services</td>\n",
       "      <td>3.7</td>\n",
       "      <td>2020-04-24</td>\n",
       "      <td>2020-06-06</td>\n",
       "      <td>FULL_TIME</td>\n",
       "    </tr>\n",
       "    <tr>\n",
       "      <th>2420</th>\n",
       "      <td>888</td>\n",
       "      <td>Data Engineer with Security Clearance</td>\n",
       "      <td>Booz Allen Hamilton</td>\n",
       "      <td>VA</td>\n",
       "      <td>Arlington</td>\n",
       "      <td>58824</td>\n",
       "      <td>112227</td>\n",
       "      <td>Job Number: R0083152 Data Engineer\\n\\nThe Chal...</td>\n",
       "      <td>Business Services</td>\n",
       "      <td>3.7</td>\n",
       "      <td>2020-05-02</td>\n",
       "      <td>2020-06-06</td>\n",
       "      <td>FULL_TIME</td>\n",
       "    </tr>\n",
       "    <tr>\n",
       "      <th>2421</th>\n",
       "      <td>889</td>\n",
       "      <td>Data Engineer, Mid with Security Clearance</td>\n",
       "      <td>Booz Allen Hamilton</td>\n",
       "      <td>VA</td>\n",
       "      <td>Herndon</td>\n",
       "      <td>58824</td>\n",
       "      <td>112227</td>\n",
       "      <td>Job Number: R0083073 Data Engineer, Mid\\n\\nKey...</td>\n",
       "      <td>Business Services</td>\n",
       "      <td>3.7</td>\n",
       "      <td>2020-05-07</td>\n",
       "      <td>2020-06-06</td>\n",
       "      <td>FULL_TIME</td>\n",
       "    </tr>\n",
       "    <tr>\n",
       "      <th>2422</th>\n",
       "      <td>890</td>\n",
       "      <td>Data Modeler, Senior with Security Clearance</td>\n",
       "      <td>Booz Allen Hamilton</td>\n",
       "      <td>VA</td>\n",
       "      <td>Springfield</td>\n",
       "      <td>90454</td>\n",
       "      <td>151998</td>\n",
       "      <td>Job Number: R0082912 Data Modeler, Senior\\n\\nT...</td>\n",
       "      <td>Business Services</td>\n",
       "      <td>3.7</td>\n",
       "      <td>2020-04-28</td>\n",
       "      <td>2020-06-06</td>\n",
       "      <td>FULL_TIME</td>\n",
       "    </tr>\n",
       "    <tr>\n",
       "      <th>2423</th>\n",
       "      <td>891</td>\n",
       "      <td>Data Engineer, Senior with Security Clearance</td>\n",
       "      <td>Booz Allen Hamilton</td>\n",
       "      <td>VA</td>\n",
       "      <td>Herndon</td>\n",
       "      <td>91443</td>\n",
       "      <td>155868</td>\n",
       "      <td>Job Number: R0083334 Data Engineer, Senior\\n\\n...</td>\n",
       "      <td>Business Services</td>\n",
       "      <td>3.7</td>\n",
       "      <td>2020-05-02</td>\n",
       "      <td>2020-06-06</td>\n",
       "      <td>FULL_TIME</td>\n",
       "    </tr>\n",
       "  </tbody>\n",
       "</table>\n",
       "</div>"
      ],
      "text/plain": [
       "      df_index                                          Job_title  \\\n",
       "2414       882         Data Science and Machine Learning Engineer   \n",
       "2415       883  Data Science and Machine Learning Engineer wit...   \n",
       "2416       884  Natural Language Processing Applied Research S...   \n",
       "2417       885        Data Engineer, Lead with Security Clearance   \n",
       "2418       886          Data Analyst, Mid with Security Clearance   \n",
       "2419       887    Data Engineer/Architect with Security Clearance   \n",
       "2420       888              Data Engineer with Security Clearance   \n",
       "2421       889         Data Engineer, Mid with Security Clearance   \n",
       "2422       890       Data Modeler, Senior with Security Clearance   \n",
       "2423       891      Data Engineer, Senior with Security Clearance   \n",
       "\n",
       "                       Company State         City  Min_Salary  Max_Salary  \\\n",
       "2414  Booz Allen Hamilton Inc.    DC   Washington       59894      108894   \n",
       "2415       Booz Allen Hamilton    DC   Washington       74364      132506   \n",
       "2416       Booz Allen Hamilton    DC   Washington       37937       84049   \n",
       "2417       Booz Allen Hamilton    VA    Arlington       95665      165443   \n",
       "2418       Booz Allen Hamilton    VA    Arlington       51373       92403   \n",
       "2419       Booz Allen Hamilton    VA       McLean       74916      128610   \n",
       "2420       Booz Allen Hamilton    VA    Arlington       58824      112227   \n",
       "2421       Booz Allen Hamilton    VA      Herndon       58824      112227   \n",
       "2422       Booz Allen Hamilton    VA  Springfield       90454      151998   \n",
       "2423       Booz Allen Hamilton    VA      Herndon       91443      155868   \n",
       "\n",
       "                                               Job_Desc           Industry  \\\n",
       "2414  Data Science and Machine Learning Engineer\\n\\n...  Business Services   \n",
       "2415  Job Number: R0076611 Data Science and Machine ...  Business Services   \n",
       "2416  Job Number: R0074275 Natural Language Processi...  Business Services   \n",
       "2417  Job Number: R0083366 Data Engineer, Lead\\n\\nTh...  Business Services   \n",
       "2418  Job Number: R0083364 Data Analyst, Mid\\n\\nThe ...  Business Services   \n",
       "2419  Job Number: R0082817 Data Engineer/Architect\\n...  Business Services   \n",
       "2420  Job Number: R0083152 Data Engineer\\n\\nThe Chal...  Business Services   \n",
       "2421  Job Number: R0083073 Data Engineer, Mid\\n\\nKey...  Business Services   \n",
       "2422  Job Number: R0082912 Data Modeler, Senior\\n\\nT...  Business Services   \n",
       "2423  Job Number: R0083334 Data Engineer, Senior\\n\\n...  Business Services   \n",
       "\n",
       "      Rating Date_Posted Valid_until   Job_Type  \n",
       "2414     3.7  2020-05-01  2020-06-06  FULL_TIME  \n",
       "2415     3.7  2020-04-28  2020-06-06  FULL_TIME  \n",
       "2416     3.7  2020-04-24  2020-06-06  FULL_TIME  \n",
       "2417     3.7  2020-05-02  2020-06-06  FULL_TIME  \n",
       "2418     3.7  2020-05-06  2020-06-06  FULL_TIME  \n",
       "2419     3.7  2020-04-24  2020-06-06  FULL_TIME  \n",
       "2420     3.7  2020-05-02  2020-06-06  FULL_TIME  \n",
       "2421     3.7  2020-05-07  2020-06-06  FULL_TIME  \n",
       "2422     3.7  2020-04-28  2020-06-06  FULL_TIME  \n",
       "2423     3.7  2020-05-02  2020-06-06  FULL_TIME  "
      ]
     },
     "metadata": {},
     "output_type": "display_data"
    },
    {
     "data": {
      "application/vnd.jupyter.widget-view+json": {
       "model_id": "4dcc00f5cc4a4d91a63e6d233ae79d26",
       "version_major": 2,
       "version_minor": 0
      },
      "text/plain": [
       "VBox(children=(Tab(children=(Tab(children=(GridBox(children=(VBox(children=(GridspecLayout(children=(HTML(valu…"
      ]
     },
     "metadata": {},
     "output_type": "display_data"
    }
   ],
   "source": [
    "profile.to_widgets()"
   ]
  },
  {
   "cell_type": "code",
   "execution_count": 32,
   "id": "trying-selection",
   "metadata": {},
   "outputs": [
    {
     "data": {
      "application/vnd.jupyter.widget-view+json": {
       "model_id": "7240845243684bb99f61c1365611fbc9",
       "version_major": 2,
       "version_minor": 0
      },
      "text/plain": [
       "Render HTML:   0%|          | 0/1 [00:00<?, ?it/s]"
      ]
     },
     "metadata": {},
     "output_type": "display_data"
    },
    {
     "data": {
      "application/vnd.jupyter.widget-view+json": {
       "model_id": "a608786c599b4717b9e3b7a9af9a835f",
       "version_major": 2,
       "version_minor": 0
      },
      "text/plain": [
       "Export report to file:   0%|          | 0/1 [00:00<?, ?it/s]"
      ]
     },
     "metadata": {},
     "output_type": "display_data"
    }
   ],
   "source": [
    "profile.to_file(\"DataScienceJobsGlassDoor.html\")"
   ]
  },
  {
   "cell_type": "code",
   "execution_count": 33,
   "id": "wrapped-gallery",
   "metadata": {},
   "outputs": [],
   "source": [
    "report_spikr = ppf.ProfileReport(data_jobspikr, title='Data Science Jobs Spikr',dark_mode=True,explorative=True)"
   ]
  },
  {
   "cell_type": "code",
   "execution_count": 34,
   "id": "detailed-connectivity",
   "metadata": {},
   "outputs": [
    {
     "data": {
      "application/vnd.jupyter.widget-view+json": {
       "model_id": "471e4660b4e44847a3e1ac1cea8161b7",
       "version_major": 2,
       "version_minor": 0
      },
      "text/plain": [
       "Summarize dataset:   0%|          | 0/36 [00:00<?, ?it/s]"
      ]
     },
     "metadata": {},
     "output_type": "display_data"
    },
    {
     "data": {
      "application/vnd.jupyter.widget-view+json": {
       "model_id": "c297d8a11918421b92bf9b603e96e8cf",
       "version_major": 2,
       "version_minor": 0
      },
      "text/plain": [
       "Generate report structure:   0%|          | 0/1 [00:00<?, ?it/s]"
      ]
     },
     "metadata": {},
     "output_type": "display_data"
    },
    {
     "data": {
      "application/vnd.jupyter.widget-view+json": {
       "model_id": "db3f9738ff324d94b7aecf2e16e0d131",
       "version_major": 2,
       "version_minor": 0
      },
      "text/plain": [
       "Render HTML:   0%|          | 0/1 [00:00<?, ?it/s]"
      ]
     },
     "metadata": {},
     "output_type": "display_data"
    },
    {
     "data": {
      "application/vnd.jupyter.widget-view+json": {
       "model_id": "a30325dbf8cd40bdb2c63efbefd5bb96",
       "version_major": 2,
       "version_minor": 0
      },
      "text/plain": [
       "Export report to file:   0%|          | 0/1 [00:00<?, ?it/s]"
      ]
     },
     "metadata": {},
     "output_type": "display_data"
    }
   ],
   "source": [
    "report_spikr.to_file(\"DataScienceJobsSpikr.html\")"
   ]
  },
  {
   "cell_type": "code",
   "execution_count": null,
   "id": "downtown-study",
   "metadata": {},
   "outputs": [],
   "source": []
  }
 ],
 "metadata": {
  "kernelspec": {
   "display_name": "Capstone",
   "language": "python",
   "name": "cap1"
  },
  "language_info": {
   "codemirror_mode": {
    "name": "ipython",
    "version": 3
   },
   "file_extension": ".py",
   "mimetype": "text/x-python",
   "name": "python",
   "nbconvert_exporter": "python",
   "pygments_lexer": "ipython3",
   "version": "3.8.8"
  }
 },
 "nbformat": 4,
 "nbformat_minor": 5
}
