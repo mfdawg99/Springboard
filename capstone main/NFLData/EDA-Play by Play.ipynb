{
 "cells": [
  {
   "cell_type": "markdown",
   "id": "modern-bosnia",
   "metadata": {},
   "source": [
    "# EDA NFL Play by Play"
   ]
  },
  {
   "cell_type": "code",
   "execution_count": 90,
   "id": "expressed-seminar",
   "metadata": {},
   "outputs": [],
   "source": [
    "# https://towardsdatascience.com/4-libraries-that-can-perform-eda-in-one-line-of-python-code-b13938a06ae"
   ]
  },
  {
   "cell_type": "code",
   "execution_count": 91,
   "id": "obvious-sacrifice",
   "metadata": {},
   "outputs": [
    {
     "name": "stdout",
     "output_type": "stream",
     "text": [
      "Executing shutdown due to inactivity...\n"
     ]
    },
    {
     "name": "stderr",
     "output_type": "stream",
     "text": [
      "2021-02-26 17:04:16,481 - INFO     - Executing shutdown due to inactivity...\n"
     ]
    },
    {
     "name": "stdout",
     "output_type": "stream",
     "text": [
      "Executing shutdown...\n"
     ]
    },
    {
     "name": "stderr",
     "output_type": "stream",
     "text": [
      "2021-02-26 17:04:28,608 - INFO     - Executing shutdown...\n"
     ]
    }
   ],
   "source": [
    "import pandas as pd\n",
    "import numpy as np\n",
    "\n",
    "import sweetviz as sv\n",
    "from autoviz.AutoViz_Class import AutoViz_Class\n",
    "import dtale as dtl\n",
    "\n",
    "import os\n",
    "import re\n",
    "import os.path as path"
   ]
  },
  {
   "cell_type": "code",
   "execution_count": 84,
   "id": "mathematical-guess",
   "metadata": {},
   "outputs": [],
   "source": [
    "def find_file_by_string(substring, base='.'):\n",
    "    f_dict = {}\n",
    "    for root, dirs, files in os.walk(base):\n",
    "        for f in files:\n",
    "            if substring in f:\n",
    "                f_dict[f] = path.join(root,f)\n",
    "    return f_dict"
   ]
  },
  {
   "cell_type": "code",
   "execution_count": 85,
   "id": "amazing-broadway",
   "metadata": {},
   "outputs": [
    {
     "data": {
      "text/plain": [
       "'C:\\\\Users\\\\Mike\\\\Google Drive\\\\Code\\\\Springboard\\\\Springboard\\\\capstone main\\\\NFLData'"
      ]
     },
     "execution_count": 85,
     "metadata": {},
     "output_type": "execute_result"
    }
   ],
   "source": [
    "# Check PWD\n",
    "pwd = %pwd\n",
    "pwd"
   ]
  },
  {
   "cell_type": "code",
   "execution_count": 86,
   "id": "eligible-classification",
   "metadata": {},
   "outputs": [],
   "source": [
    "#Build File Dict for use\n",
    "file_d = find_file_by_string('.csv',os.path.join(pwd, \"data\"))\n",
    "current_file = 'pbp-2020.csv'"
   ]
  },
  {
   "cell_type": "code",
   "execution_count": 87,
   "id": "still-manufacturer",
   "metadata": {},
   "outputs": [],
   "source": [
    "# Load a typical dataframe for traditional EDA\n",
    "df_raw = pd.read_csv(file_d[current_file],parse_dates=True)"
   ]
  },
  {
   "cell_type": "markdown",
   "id": "frequent-incentive",
   "metadata": {},
   "source": [
    "# Sweetviz Tryout"
   ]
  },
  {
   "cell_type": "code",
   "execution_count": 88,
   "id": "clear-board",
   "metadata": {},
   "outputs": [
    {
     "data": {
      "application/vnd.jupyter.widget-view+json": {
       "model_id": "32aafba40fa94a92a6377ab28c600d8c",
       "version_major": 2,
       "version_minor": 0
      },
      "text/plain": [
       "                                             |                                                                …"
      ]
     },
     "metadata": {},
     "output_type": "display_data"
    },
    {
     "name": "stdout",
     "output_type": "stream",
     "text": [
      "Report pbp-2020.html was generated! NOTEBOOK/COLAB USERS: the web browser MAY not pop up, regardless, the report IS saved in your notebook/colab files.\n"
     ]
    }
   ],
   "source": [
    "#EDA using SweetViz\n",
    "NFL_report_AV = sv.analyze(df_raw,parse_dates=True))\n",
    "\n",
    "#Saving results to HTML file\n",
    "NFL_report_AV.show_html(current_file.split(\".\")[0]+'.html')"
   ]
  },
  {
   "cell_type": "code",
   "execution_count": 89,
   "id": "pediatric-melbourne",
   "metadata": {},
   "outputs": [
    {
     "data": {
      "text/html": [
       "<div>\n",
       "<style scoped>\n",
       "    .dataframe tbody tr th:only-of-type {\n",
       "        vertical-align: middle;\n",
       "    }\n",
       "\n",
       "    .dataframe tbody tr th {\n",
       "        vertical-align: top;\n",
       "    }\n",
       "\n",
       "    .dataframe thead th {\n",
       "        text-align: right;\n",
       "    }\n",
       "</style>\n",
       "<table border=\"1\" class=\"dataframe\">\n",
       "  <thead>\n",
       "    <tr style=\"text-align: right;\">\n",
       "      <th></th>\n",
       "      <th>GameId</th>\n",
       "      <th>Quarter</th>\n",
       "      <th>Minute</th>\n",
       "      <th>Second</th>\n",
       "      <th>Down</th>\n",
       "      <th>ToGo</th>\n",
       "      <th>YardLine</th>\n",
       "      <th>Unnamed: 10</th>\n",
       "      <th>SeriesFirstDown</th>\n",
       "      <th>Unnamed: 12</th>\n",
       "      <th>...</th>\n",
       "      <th>IsMeasurement</th>\n",
       "      <th>IsInterception</th>\n",
       "      <th>IsFumble</th>\n",
       "      <th>IsPenalty</th>\n",
       "      <th>IsTwoPointConversion</th>\n",
       "      <th>IsTwoPointConversionSuccessful</th>\n",
       "      <th>YardLineFixed</th>\n",
       "      <th>IsPenaltyAccepted</th>\n",
       "      <th>IsNoPlay</th>\n",
       "      <th>PenaltyYards</th>\n",
       "    </tr>\n",
       "  </thead>\n",
       "  <tbody>\n",
       "    <tr>\n",
       "      <th>count</th>\n",
       "      <td>4.618900e+04</td>\n",
       "      <td>46189.000000</td>\n",
       "      <td>46189.000000</td>\n",
       "      <td>46189.000000</td>\n",
       "      <td>46189.000000</td>\n",
       "      <td>46189.000000</td>\n",
       "      <td>46189.000000</td>\n",
       "      <td>0.0</td>\n",
       "      <td>46189.000000</td>\n",
       "      <td>0.0</td>\n",
       "      <td>...</td>\n",
       "      <td>46189.0</td>\n",
       "      <td>46189.000000</td>\n",
       "      <td>46189.000000</td>\n",
       "      <td>46189.000000</td>\n",
       "      <td>46189.000000</td>\n",
       "      <td>46189.000000</td>\n",
       "      <td>46189.000000</td>\n",
       "      <td>46189.000000</td>\n",
       "      <td>46189.000000</td>\n",
       "      <td>46189.000000</td>\n",
       "    </tr>\n",
       "    <tr>\n",
       "      <th>mean</th>\n",
       "      <td>2.020164e+09</td>\n",
       "      <td>2.562883</td>\n",
       "      <td>6.247288</td>\n",
       "      <td>27.194657</td>\n",
       "      <td>1.615363</td>\n",
       "      <td>6.907965</td>\n",
       "      <td>55.084176</td>\n",
       "      <td>NaN</td>\n",
       "      <td>0.390807</td>\n",
       "      <td>NaN</td>\n",
       "      <td>...</td>\n",
       "      <td>0.0</td>\n",
       "      <td>0.009678</td>\n",
       "      <td>0.012795</td>\n",
       "      <td>0.070428</td>\n",
       "      <td>0.002923</td>\n",
       "      <td>0.001429</td>\n",
       "      <td>26.006040</td>\n",
       "      <td>0.062006</td>\n",
       "      <td>0.047479</td>\n",
       "      <td>0.524389</td>\n",
       "    </tr>\n",
       "    <tr>\n",
       "      <th>std</th>\n",
       "      <td>2.174311e+05</td>\n",
       "      <td>1.127556</td>\n",
       "      <td>4.691707</td>\n",
       "      <td>18.370660</td>\n",
       "      <td>1.171145</td>\n",
       "      <td>4.884643</td>\n",
       "      <td>27.604160</td>\n",
       "      <td>NaN</td>\n",
       "      <td>0.487937</td>\n",
       "      <td>NaN</td>\n",
       "      <td>...</td>\n",
       "      <td>0.0</td>\n",
       "      <td>0.097899</td>\n",
       "      <td>0.112391</td>\n",
       "      <td>0.255870</td>\n",
       "      <td>0.053984</td>\n",
       "      <td>0.037774</td>\n",
       "      <td>14.564219</td>\n",
       "      <td>0.241169</td>\n",
       "      <td>0.212663</td>\n",
       "      <td>2.481131</td>\n",
       "    </tr>\n",
       "    <tr>\n",
       "      <th>min</th>\n",
       "      <td>2.020091e+09</td>\n",
       "      <td>1.000000</td>\n",
       "      <td>0.000000</td>\n",
       "      <td>0.000000</td>\n",
       "      <td>0.000000</td>\n",
       "      <td>0.000000</td>\n",
       "      <td>1.000000</td>\n",
       "      <td>NaN</td>\n",
       "      <td>0.000000</td>\n",
       "      <td>NaN</td>\n",
       "      <td>...</td>\n",
       "      <td>0.0</td>\n",
       "      <td>0.000000</td>\n",
       "      <td>0.000000</td>\n",
       "      <td>0.000000</td>\n",
       "      <td>0.000000</td>\n",
       "      <td>0.000000</td>\n",
       "      <td>0.000000</td>\n",
       "      <td>0.000000</td>\n",
       "      <td>0.000000</td>\n",
       "      <td>0.000000</td>\n",
       "    </tr>\n",
       "    <tr>\n",
       "      <th>25%</th>\n",
       "      <td>2.020101e+09</td>\n",
       "      <td>2.000000</td>\n",
       "      <td>2.000000</td>\n",
       "      <td>11.000000</td>\n",
       "      <td>1.000000</td>\n",
       "      <td>2.000000</td>\n",
       "      <td>32.000000</td>\n",
       "      <td>NaN</td>\n",
       "      <td>0.000000</td>\n",
       "      <td>NaN</td>\n",
       "      <td>...</td>\n",
       "      <td>0.0</td>\n",
       "      <td>0.000000</td>\n",
       "      <td>0.000000</td>\n",
       "      <td>0.000000</td>\n",
       "      <td>0.000000</td>\n",
       "      <td>0.000000</td>\n",
       "      <td>15.000000</td>\n",
       "      <td>0.000000</td>\n",
       "      <td>0.000000</td>\n",
       "      <td>0.000000</td>\n",
       "    </tr>\n",
       "    <tr>\n",
       "      <th>50%</th>\n",
       "      <td>2.020111e+09</td>\n",
       "      <td>2.000000</td>\n",
       "      <td>6.000000</td>\n",
       "      <td>27.000000</td>\n",
       "      <td>1.000000</td>\n",
       "      <td>9.000000</td>\n",
       "      <td>51.000000</td>\n",
       "      <td>NaN</td>\n",
       "      <td>0.000000</td>\n",
       "      <td>NaN</td>\n",
       "      <td>...</td>\n",
       "      <td>0.0</td>\n",
       "      <td>0.000000</td>\n",
       "      <td>0.000000</td>\n",
       "      <td>0.000000</td>\n",
       "      <td>0.000000</td>\n",
       "      <td>0.000000</td>\n",
       "      <td>28.000000</td>\n",
       "      <td>0.000000</td>\n",
       "      <td>0.000000</td>\n",
       "      <td>0.000000</td>\n",
       "    </tr>\n",
       "    <tr>\n",
       "      <th>75%</th>\n",
       "      <td>2.020121e+09</td>\n",
       "      <td>4.000000</td>\n",
       "      <td>10.000000</td>\n",
       "      <td>43.000000</td>\n",
       "      <td>2.000000</td>\n",
       "      <td>10.000000</td>\n",
       "      <td>80.000000</td>\n",
       "      <td>NaN</td>\n",
       "      <td>1.000000</td>\n",
       "      <td>NaN</td>\n",
       "      <td>...</td>\n",
       "      <td>0.0</td>\n",
       "      <td>0.000000</td>\n",
       "      <td>0.000000</td>\n",
       "      <td>0.000000</td>\n",
       "      <td>0.000000</td>\n",
       "      <td>0.000000</td>\n",
       "      <td>37.000000</td>\n",
       "      <td>0.000000</td>\n",
       "      <td>0.000000</td>\n",
       "      <td>0.000000</td>\n",
       "    </tr>\n",
       "    <tr>\n",
       "      <th>max</th>\n",
       "      <td>2.021010e+09</td>\n",
       "      <td>5.000000</td>\n",
       "      <td>15.000000</td>\n",
       "      <td>59.000000</td>\n",
       "      <td>4.000000</td>\n",
       "      <td>42.000000</td>\n",
       "      <td>100.000000</td>\n",
       "      <td>NaN</td>\n",
       "      <td>1.000000</td>\n",
       "      <td>NaN</td>\n",
       "      <td>...</td>\n",
       "      <td>0.0</td>\n",
       "      <td>1.000000</td>\n",
       "      <td>1.000000</td>\n",
       "      <td>1.000000</td>\n",
       "      <td>1.000000</td>\n",
       "      <td>1.000000</td>\n",
       "      <td>49.000000</td>\n",
       "      <td>1.000000</td>\n",
       "      <td>1.000000</td>\n",
       "      <td>51.000000</td>\n",
       "    </tr>\n",
       "  </tbody>\n",
       "</table>\n",
       "<p>8 rows × 34 columns</p>\n",
       "</div>"
      ],
      "text/plain": [
       "             GameId       Quarter        Minute        Second          Down  \\\n",
       "count  4.618900e+04  46189.000000  46189.000000  46189.000000  46189.000000   \n",
       "mean   2.020164e+09      2.562883      6.247288     27.194657      1.615363   \n",
       "std    2.174311e+05      1.127556      4.691707     18.370660      1.171145   \n",
       "min    2.020091e+09      1.000000      0.000000      0.000000      0.000000   \n",
       "25%    2.020101e+09      2.000000      2.000000     11.000000      1.000000   \n",
       "50%    2.020111e+09      2.000000      6.000000     27.000000      1.000000   \n",
       "75%    2.020121e+09      4.000000     10.000000     43.000000      2.000000   \n",
       "max    2.021010e+09      5.000000     15.000000     59.000000      4.000000   \n",
       "\n",
       "               ToGo      YardLine  Unnamed: 10  SeriesFirstDown  Unnamed: 12  \\\n",
       "count  46189.000000  46189.000000          0.0     46189.000000          0.0   \n",
       "mean       6.907965     55.084176          NaN         0.390807          NaN   \n",
       "std        4.884643     27.604160          NaN         0.487937          NaN   \n",
       "min        0.000000      1.000000          NaN         0.000000          NaN   \n",
       "25%        2.000000     32.000000          NaN         0.000000          NaN   \n",
       "50%        9.000000     51.000000          NaN         0.000000          NaN   \n",
       "75%       10.000000     80.000000          NaN         1.000000          NaN   \n",
       "max       42.000000    100.000000          NaN         1.000000          NaN   \n",
       "\n",
       "       ...  IsMeasurement  IsInterception      IsFumble     IsPenalty  \\\n",
       "count  ...        46189.0    46189.000000  46189.000000  46189.000000   \n",
       "mean   ...            0.0        0.009678      0.012795      0.070428   \n",
       "std    ...            0.0        0.097899      0.112391      0.255870   \n",
       "min    ...            0.0        0.000000      0.000000      0.000000   \n",
       "25%    ...            0.0        0.000000      0.000000      0.000000   \n",
       "50%    ...            0.0        0.000000      0.000000      0.000000   \n",
       "75%    ...            0.0        0.000000      0.000000      0.000000   \n",
       "max    ...            0.0        1.000000      1.000000      1.000000   \n",
       "\n",
       "       IsTwoPointConversion  IsTwoPointConversionSuccessful  YardLineFixed  \\\n",
       "count          46189.000000                    46189.000000   46189.000000   \n",
       "mean               0.002923                        0.001429      26.006040   \n",
       "std                0.053984                        0.037774      14.564219   \n",
       "min                0.000000                        0.000000       0.000000   \n",
       "25%                0.000000                        0.000000      15.000000   \n",
       "50%                0.000000                        0.000000      28.000000   \n",
       "75%                0.000000                        0.000000      37.000000   \n",
       "max                1.000000                        1.000000      49.000000   \n",
       "\n",
       "       IsPenaltyAccepted      IsNoPlay  PenaltyYards  \n",
       "count       46189.000000  46189.000000  46189.000000  \n",
       "mean            0.062006      0.047479      0.524389  \n",
       "std             0.241169      0.212663      2.481131  \n",
       "min             0.000000      0.000000      0.000000  \n",
       "25%             0.000000      0.000000      0.000000  \n",
       "50%             0.000000      0.000000      0.000000  \n",
       "75%             0.000000      0.000000      0.000000  \n",
       "max             1.000000      1.000000     51.000000  \n",
       "\n",
       "[8 rows x 34 columns]"
      ]
     },
     "execution_count": 89,
     "metadata": {},
     "output_type": "execute_result"
    }
   ],
   "source": [
    "df_raw.describe()"
   ]
  },
  {
   "cell_type": "code",
   "execution_count": 82,
   "id": "coordinated-tackle",
   "metadata": {},
   "outputs": [
    {
     "name": "stdout",
     "output_type": "stream",
     "text": [
      "<class 'pandas.core.frame.DataFrame'>\n",
      "RangeIndex: 46189 entries, 0 to 46188\n",
      "Data columns (total 45 columns):\n",
      " #   Column                          Non-Null Count  Dtype  \n",
      "---  ------                          --------------  -----  \n",
      " 0   GameId                          46189 non-null  int64  \n",
      " 1   GameDate                        46189 non-null  object \n",
      " 2   Quarter                         46189 non-null  int64  \n",
      " 3   Minute                          46189 non-null  int64  \n",
      " 4   Second                          46189 non-null  int64  \n",
      " 5   OffenseTeam                     42234 non-null  object \n",
      " 6   DefenseTeam                     42234 non-null  object \n",
      " 7   Down                            46189 non-null  int64  \n",
      " 8   ToGo                            46189 non-null  int64  \n",
      " 9   YardLine                        46189 non-null  int64  \n",
      " 10  Unnamed: 10                     0 non-null      float64\n",
      " 11  SeriesFirstDown                 46189 non-null  int64  \n",
      " 12  Unnamed: 12                     0 non-null      float64\n",
      " 13  NextScore                       46189 non-null  int64  \n",
      " 14  Description                     46189 non-null  object \n",
      " 15  TeamWin                         46189 non-null  int64  \n",
      " 16  Unnamed: 16                     0 non-null      float64\n",
      " 17  Unnamed: 17                     0 non-null      float64\n",
      " 18  SeasonYear                      46189 non-null  int64  \n",
      " 19  Yards                           46189 non-null  int64  \n",
      " 20  Formation                       45155 non-null  object \n",
      " 21  PlayType                        44058 non-null  object \n",
      " 22  IsRush                          46189 non-null  int64  \n",
      " 23  IsPass                          46189 non-null  int64  \n",
      " 24  IsIncomplete                    46189 non-null  int64  \n",
      " 25  IsTouchdown                     46189 non-null  int64  \n",
      " 26  PassType                        18862 non-null  object \n",
      " 27  IsSack                          46189 non-null  int64  \n",
      " 28  IsChallenge                     46189 non-null  int64  \n",
      " 29  IsChallengeReversed             46189 non-null  int64  \n",
      " 30  Challenger                      0 non-null      float64\n",
      " 31  IsMeasurement                   46189 non-null  int64  \n",
      " 32  IsInterception                  46189 non-null  int64  \n",
      " 33  IsFumble                        46189 non-null  int64  \n",
      " 34  IsPenalty                       46189 non-null  int64  \n",
      " 35  IsTwoPointConversion            46189 non-null  int64  \n",
      " 36  IsTwoPointConversionSuccessful  46189 non-null  int64  \n",
      " 37  RushDirection                   12537 non-null  object \n",
      " 38  YardLineFixed                   46189 non-null  int64  \n",
      " 39  YardLineDirection               46189 non-null  object \n",
      " 40  IsPenaltyAccepted               46189 non-null  int64  \n",
      " 41  PenaltyTeam                     3253 non-null   object \n",
      " 42  IsNoPlay                        46189 non-null  int64  \n",
      " 43  PenaltyType                     3253 non-null   object \n",
      " 44  PenaltyYards                    46189 non-null  int64  \n",
      "dtypes: float64(5), int64(29), object(11)\n",
      "memory usage: 15.9+ MB\n"
     ]
    }
   ],
   "source": [
    "df_raw.info()"
   ]
  },
  {
   "cell_type": "markdown",
   "id": "known-panama",
   "metadata": {},
   "source": [
    "# DTALE Tryout"
   ]
  },
  {
   "cell_type": "code",
   "execution_count": 60,
   "id": "vietnamese-terrorism",
   "metadata": {},
   "outputs": [
    {
     "name": "stdout",
     "output_type": "stream",
     "text": [
      "http://MIKE-9360:40000/dtale/main/1\n",
      "It looks like this data may have already been loaded to D-Tale based on shape and column names. Here is URL of the data that seems to match it:\n",
      "\n",
      "None\n",
      "\n",
      "If you still want to load this data please use the following command:\n",
      "\n",
      "dtale.show(df, ignore_duplicate=True)\n"
     ]
    }
   ],
   "source": [
    "dtl.show(df_raw)"
   ]
  }
 ],
 "metadata": {
  "kernelspec": {
   "display_name": "Python (springboard)",
   "language": "python",
   "name": "springboard"
  },
  "language_info": {
   "codemirror_mode": {
    "name": "ipython",
    "version": 3
   },
   "file_extension": ".py",
   "mimetype": "text/x-python",
   "name": "python",
   "nbconvert_exporter": "python",
   "pygments_lexer": "ipython3",
   "version": "3.9.2"
  }
 },
 "nbformat": 4,
 "nbformat_minor": 5
}
