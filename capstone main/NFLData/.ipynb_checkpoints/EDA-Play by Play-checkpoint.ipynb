{
 "cells": [
  {
   "cell_type": "markdown",
   "id": "ranging-finance",
   "metadata": {},
   "source": [
    "# EDA NFL Play by Play"
   ]
  },
  {
   "cell_type": "code",
   "execution_count": 39,
   "id": "activated-silly",
   "metadata": {},
   "outputs": [],
   "source": [
    "# https://towardsdatascience.com/4-libraries-that-can-perform-eda-in-one-line-of-python-code-b13938a06ae"
   ]
  },
  {
   "cell_type": "code",
   "execution_count": 40,
   "id": "deluxe-surveillance",
   "metadata": {},
   "outputs": [],
   "source": [
    "import pandas as pd\n",
    "import numpy as np\n",
    "\n",
    "import sweetviz as sv\n",
    "from autoviz.AutoViz_Class import AutoViz_Class\n",
    "import dtale as dtl\n",
    "\n",
    "import os\n",
    "import re\n",
    "import os.path as path"
   ]
  },
  {
   "cell_type": "code",
   "execution_count": 41,
   "id": "alternate-gardening",
   "metadata": {},
   "outputs": [],
   "source": [
    "def find_file_by_string(substring, base='.'):\n",
    "    f_dict = {}\n",
    "    for root, dirs, files in os.walk(base):\n",
    "        for f in files:\n",
    "            if substring in f:\n",
    "                f_dict[f] = path.join(root,f)\n",
    "    return f_dict"
   ]
  },
  {
   "cell_type": "code",
   "execution_count": 42,
   "id": "descending-million",
   "metadata": {},
   "outputs": [
    {
     "data": {
      "text/plain": [
       "'C:\\\\Users\\\\Mike\\\\Google Drive\\\\Code\\\\Springboard\\\\Springboard\\\\capstone main\\\\NFLData'"
      ]
     },
     "execution_count": 42,
     "metadata": {},
     "output_type": "execute_result"
    }
   ],
   "source": [
    "# Check PWD\n",
    "pwd = %pwd\n",
    "pwd"
   ]
  },
  {
   "cell_type": "code",
   "execution_count": 43,
   "id": "lightweight-catalyst",
   "metadata": {},
   "outputs": [],
   "source": [
    "#Build File Dict for use\n",
    "file_d = find_file_by_string('.csv',os.path.join(pwd, \"data\"))\n",
    "current_file = 'pbp-2020.csv'"
   ]
  },
  {
   "cell_type": "code",
   "execution_count": 44,
   "id": "bearing-circus",
   "metadata": {},
   "outputs": [],
   "source": [
    "# Try out Autoviz"
   ]
  },
  {
   "cell_type": "code",
   "execution_count": 45,
   "id": "applied-neutral",
   "metadata": {},
   "outputs": [
    {
     "data": {
      "application/vnd.jupyter.widget-view+json": {
       "model_id": "97e99f9d1e954607aa24590c9402260e",
       "version_major": 2,
       "version_minor": 0
      },
      "text/plain": [
       "                                             |                                                                …"
      ]
     },
     "metadata": {},
     "output_type": "display_data"
    },
    {
     "name": "stdout",
     "output_type": "stream",
     "text": [
      "Report pbp-2020.html was generated! NOTEBOOK/COLAB USERS: the web browser MAY not pop up, regardless, the report IS saved in your notebook/colab files.\n"
     ]
    }
   ],
   "source": [
    "#EDA using Autoviz\n",
    "NFL_report_AV = sv.analyze(pd.read_csv(file_d[current_file]))\n",
    "\n",
    "#Saving results to HTML file\n",
    "NFL_report_AV.show_html(current_file.split(\".\")[0]+'.html')"
   ]
  },
  {
   "cell_type": "code",
   "execution_count": null,
   "id": "sonic-headline",
   "metadata": {},
   "outputs": [],
   "source": [
    "#EDA using Autoviz\n",
    "sweet_report = sv.analyze(pd.read_csv(\"titanic.csv\"))\n",
    "\n",
    "#Saving results to HTML file\n",
    "sweet_report.show_html('sweet_report.html')\n"
   ]
  },
  {
   "cell_type": "code",
   "execution_count": null,
   "id": "intense-charity",
   "metadata": {},
   "outputs": [],
   "source": [
    "pbp_list_folder = (\"Springboard//Springboard//capstone main//NFLData//data//\")"
   ]
  },
  {
   "cell_type": "markdown",
   "id": "unable-revelation",
   "metadata": {},
   "source": [
    "#### Load Frame"
   ]
  },
  {
   "cell_type": "code",
   "execution_count": 4,
   "id": "periodic-member",
   "metadata": {},
   "outputs": [],
   "source": [
    "df_raw = pd.read_csv(\"pbp-2020.csv\")"
   ]
  },
  {
   "cell_type": "markdown",
   "id": "varying-stomach",
   "metadata": {},
   "source": [
    "# AutoVIZ Tryout"
   ]
  },
  {
   "cell_type": "code",
   "execution_count": 6,
   "id": "infectious-trinity",
   "metadata": {},
   "outputs": [
    {
     "name": "stdout",
     "output_type": "stream",
     "text": [
      "Not able to read or load file. Please check your inputs and try again...\n"
     ]
    }
   ],
   "source": [
    "#EDA using Autoviz\n",
    "autoviz = AutoViz_Class().AutoViz(df_raw)"
   ]
  },
  {
   "cell_type": "markdown",
   "id": "married-principle",
   "metadata": {},
   "source": [
    "# DTALE"
   ]
  },
  {
   "cell_type": "code",
   "execution_count": 7,
   "id": "reflected-albuquerque",
   "metadata": {},
   "outputs": [
    {
     "name": "stdout",
     "output_type": "stream",
     "text": [
      "http://MIKE-9360:40000/dtale/main/1\n",
      "It looks like this data may have already been loaded to D-Tale based on shape and column names. Here is URL of the data that seems to match it:\n",
      "\n",
      "None\n",
      "\n",
      "If you still want to load this data please use the following command:\n",
      "\n",
      "dtale.show(df, ignore_duplicate=True)\n"
     ]
    }
   ],
   "source": [
    "dtl.show(df_raw)"
   ]
  },
  {
   "cell_type": "code",
   "execution_count": null,
   "id": "stuck-effort",
   "metadata": {},
   "outputs": [],
   "source": []
  },
  {
   "cell_type": "code",
   "execution_count": null,
   "id": "bearing-border",
   "metadata": {},
   "outputs": [],
   "source": []
  }
 ],
 "metadata": {
  "kernelspec": {
   "display_name": "Python (springboard)",
   "language": "python",
   "name": "springboard"
  },
  "language_info": {
   "codemirror_mode": {
    "name": "ipython",
    "version": 3
   },
   "file_extension": ".py",
   "mimetype": "text/x-python",
   "name": "python",
   "nbconvert_exporter": "python",
   "pygments_lexer": "ipython3",
   "version": "3.9.2"
  }
 },
 "nbformat": 4,
 "nbformat_minor": 5
}
