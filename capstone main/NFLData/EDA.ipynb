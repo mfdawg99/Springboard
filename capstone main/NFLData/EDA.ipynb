{
 "cells": [
  {
   "cell_type": "markdown",
   "id": "governing-mauritius",
   "metadata": {},
   "source": [
    "# EDA NFL Play by Play"
   ]
  },
  {
   "cell_type": "code",
   "execution_count": 160,
   "id": "convertible-mailing",
   "metadata": {},
   "outputs": [],
   "source": [
    "# https://towardsdatascience.com/4-libraries-that-can-perform-eda-in-one-line-of-python-code-b13938a06ae"
   ]
  },
  {
   "cell_type": "code",
   "execution_count": 161,
   "id": "suburban-starter",
   "metadata": {},
   "outputs": [],
   "source": [
    "import pandas as pd\n",
    "import numpy as np\n",
    "import sweetviz as sv\n",
    "from autoviz.AutoViz_Class import AutoViz_Class\n",
    "import dtale as dtl\n",
    "import os, re\n",
    "import os.path as path"
   ]
  },
  {
   "cell_type": "code",
   "execution_count": 162,
   "id": "second-blank",
   "metadata": {},
   "outputs": [],
   "source": [
    "data_dir = \"C:\\\\Users\\\\Mike\\\\Google Drive\\\\Code\\\\Springboard\\\\Springboard\\\\capstone main\\\\NFLData\\\\data\\\\\"\n",
    "os.chdir(data_dir)"
   ]
  },
  {
   "cell_type": "code",
   "execution_count": 167,
   "id": "absent-temperature",
   "metadata": {},
   "outputs": [],
   "source": [
    "# Find each file extension in direction\n",
    "# Switch to re when time allows for efficiency\n",
    "def find_files(match_string, base='.'):\n",
    "    matches = {}\n",
    "    for root, dirs, files in os.walk(base):\n",
    "        for f in files:\n",
    "            if match_string in f:\n",
    "                matches[f] = path.join(root,f)\n",
    "    return matches"
   ]
  },
  {
   "cell_type": "code",
   "execution_count": 173,
   "id": "crazy-belize",
   "metadata": {},
   "outputs": [
    {
     "data": {
      "text/plain": [
       "{'pbp-2013.csv': 'C:\\\\Users\\\\Mike\\\\Google Drive\\\\Code\\\\Springboard\\\\Springboard\\\\capstone main\\\\NFLData\\\\data\\\\pbp-2013.csv',\n",
       " 'pbp-2014.csv': 'C:\\\\Users\\\\Mike\\\\Google Drive\\\\Code\\\\Springboard\\\\Springboard\\\\capstone main\\\\NFLData\\\\data\\\\pbp-2014.csv',\n",
       " 'pbp-2015.csv': 'C:\\\\Users\\\\Mike\\\\Google Drive\\\\Code\\\\Springboard\\\\Springboard\\\\capstone main\\\\NFLData\\\\data\\\\pbp-2015.csv',\n",
       " 'pbp-2016.csv': 'C:\\\\Users\\\\Mike\\\\Google Drive\\\\Code\\\\Springboard\\\\Springboard\\\\capstone main\\\\NFLData\\\\data\\\\pbp-2016.csv',\n",
       " 'pbp-2017.csv': 'C:\\\\Users\\\\Mike\\\\Google Drive\\\\Code\\\\Springboard\\\\Springboard\\\\capstone main\\\\NFLData\\\\data\\\\pbp-2017.csv',\n",
       " 'pbp-2018.csv': 'C:\\\\Users\\\\Mike\\\\Google Drive\\\\Code\\\\Springboard\\\\Springboard\\\\capstone main\\\\NFLData\\\\data\\\\pbp-2018.csv',\n",
       " 'pbp-2019.csv': 'C:\\\\Users\\\\Mike\\\\Google Drive\\\\Code\\\\Springboard\\\\Springboard\\\\capstone main\\\\NFLData\\\\data\\\\pbp-2019.csv',\n",
       " 'pbp-2020.csv': 'C:\\\\Users\\\\Mike\\\\Google Drive\\\\Code\\\\Springboard\\\\Springboard\\\\capstone main\\\\NFLData\\\\data\\\\pbp-2020.csv'}"
      ]
     },
     "execution_count": 173,
     "metadata": {},
     "output_type": "execute_result"
    }
   ],
   "source": [
    "# Get a list of a folder contents\n",
    "files = find_files('.csv',data_dir)\n",
    "files"
   ]
  },
  {
   "cell_type": "code",
   "execution_count": 180,
   "id": "latin-engine",
   "metadata": {},
   "outputs": [
    {
     "data": {
      "application/vnd.jupyter.widget-view+json": {
       "model_id": "ca0b70dc2b644899a1bfe03641ef2052",
       "version_major": 2,
       "version_minor": 0
      },
      "text/plain": [
       "                                             |                                                                …"
      ]
     },
     "metadata": {},
     "output_type": "display_data"
    },
    {
     "name": "stdout",
     "output_type": "stream",
     "text": [
      "Report pbp-2020.csv.html was generated! NOTEBOOK/COLAB USERS: the web browser MAY not pop up, regardless, the report IS saved in your notebook/colab files.\n"
     ]
    }
   ],
   "source": [
    "#EDA using Autoviz\n",
    "# for k,v in files.items():\n",
    "#     try:\n",
    "#         NFL_report = sv.analyze(pd.read_csv(files[k]))\n",
    "#     except:\n",
    "#         pass\n",
    "#     finally:\n",
    "#         continue\n",
    "#     #Saving results to HTML file\n",
    "#     NFL_report.show_html(k + '.html')\n",
    "\n",
    "file = 'pbp-2019.csv'\n",
    "report = sv.analyze(pd.read_csv(files[file]))\n",
    "report.show_html(k + '.html')"
   ]
  },
  {
   "cell_type": "code",
   "execution_count": null,
   "id": "underlying-weekly",
   "metadata": {},
   "outputs": [],
   "source": []
  },
  {
   "cell_type": "markdown",
   "id": "enclosed-tanzania",
   "metadata": {},
   "source": [
    "# AutoVIZ Tryout"
   ]
  },
  {
   "cell_type": "code",
   "execution_count": 181,
   "id": "sunset-region",
   "metadata": {},
   "outputs": [
    {
     "name": "stdout",
     "output_type": "stream",
     "text": [
      "Not able to read or load file. Please check your inputs and try again...\n"
     ]
    }
   ],
   "source": [
    "#EDA using Autoviz\n",
    "df_raw = pd.read_csv(files[file])\n",
    "autoviz = AutoViz_Class().AutoViz(df_raw)"
   ]
  },
  {
   "cell_type": "markdown",
   "id": "tender-commonwealth",
   "metadata": {},
   "source": [
    "# DTALE"
   ]
  },
  {
   "cell_type": "code",
   "execution_count": 182,
   "id": "continued-stake",
   "metadata": {},
   "outputs": [
    {
     "data": {
      "text/html": [
       "\n",
       "        <iframe\n",
       "            width=\"100%\"\n",
       "            height=\"475\"\n",
       "            src=\"http://MIKE-9360:40000/dtale/iframe/1\"\n",
       "            frameborder=\"0\"\n",
       "            allowfullscreen\n",
       "        ></iframe>\n",
       "        "
      ],
      "text/plain": [
       "<IPython.lib.display.IFrame at 0x1f4d5929760>"
      ]
     },
     "metadata": {},
     "output_type": "display_data"
    },
    {
     "data": {
      "text/plain": []
     },
     "execution_count": 182,
     "metadata": {},
     "output_type": "execute_result"
    }
   ],
   "source": [
    "dtl.show(df_raw)"
   ]
  },
  {
   "cell_type": "code",
   "execution_count": null,
   "id": "controversial-conference",
   "metadata": {},
   "outputs": [],
   "source": []
  },
  {
   "cell_type": "code",
   "execution_count": null,
   "id": "infrared-dodge",
   "metadata": {},
   "outputs": [],
   "source": []
  }
 ],
 "metadata": {
  "kernelspec": {
   "display_name": "Python (springboard)",
   "language": "python",
   "name": "springboard"
  },
  "language_info": {
   "codemirror_mode": {
    "name": "ipython",
    "version": 3
   },
   "file_extension": ".py",
   "mimetype": "text/x-python",
   "name": "python",
   "nbconvert_exporter": "python",
   "pygments_lexer": "ipython3",
   "version": "3.9.2"
  }
 },
 "nbformat": 4,
 "nbformat_minor": 5
}
